{
 "cells": [
  {
   "cell_type": "markdown",
   "metadata": {},
   "source": [
    "#### 整数問題\n",
    "\n",
    "$x,\\,y,\\,z\\in \\mathbb{Z}$とする。\n",
    "\n",
    "$$x^4+y^4+z^4+2=(x+y+z+2)^4$$\n",
    "\n",
    "を満たす組$(x,\\,y,\\,z)$があれば１組求めよ。無ければ存在しないことを証明しせよ。"
   ]
  },
  {
   "cell_type": "markdown",
   "metadata": {},
   "source": [
    "まずは探してみる。"
   ]
  },
  {
   "cell_type": "code",
   "execution_count": 17,
   "metadata": {},
   "outputs": [
    {
     "name": "stdout",
     "output_type": "stream",
     "text": [
      " 28.468024 seconds\n"
     ]
    }
   ],
   "source": [
    "@time for x=0:1000,y=0:1000,z=-2000:0\n",
    "    if x^4+y^4+z^4+2==(x+y+z+2)^4\n",
    "        println(x,y,z)\n",
    "    end\n",
    "end"
   ]
  },
  {
   "cell_type": "code",
   "execution_count": 40,
   "metadata": {},
   "outputs": [
    {
     "name": "stdout",
     "output_type": "stream",
     "text": [
      " 14.231885 seconds\n"
     ]
    }
   ],
   "source": [
    "@time for x=0:1000,y=-1000:0,z=-1000:0\n",
    "    if x^4+y^4+z^4+2==(x+y+z+2)^4\n",
    "        println(x,y,z)\n",
    "    end\n",
    "end"
   ]
  },
  {
   "cell_type": "code",
   "execution_count": 41,
   "metadata": {},
   "outputs": [
    {
     "name": "stdout",
     "output_type": "stream",
     "text": [
      " 15.602161 seconds\n"
     ]
    }
   ],
   "source": [
    "@time for x=0:1000,y=0:1000,z=0:1000\n",
    "    if x^4+y^4+z^4+2==(x+y+z+2)^4\n",
    "        println(x,y,z)\n",
    "    end\n",
    "end"
   ]
  },
  {
   "cell_type": "markdown",
   "metadata": {},
   "source": [
    "なさそうである。何かで割って，余りが一致しないことはできそうか検討してみる。"
   ]
  },
  {
   "cell_type": "code",
   "execution_count": 42,
   "metadata": {},
   "outputs": [
    {
     "data": {
      "text/plain": [
       "keisan (generic function with 1 method)"
      ]
     },
     "execution_count": 42,
     "metadata": {},
     "output_type": "execute_result"
    }
   ],
   "source": [
    "function keisan(a)\n",
    "    @time for x=0:a-1,y=0:a-1,z=0:a-1\n",
    "        if (x^4+y^4+z^4+2)%a==((x+y+z+2)^4)%a\n",
    "        println(x,\",\", y,\",\", z)\n",
    "        end\n",
    "    end\n",
    "end"
   ]
  },
  {
   "cell_type": "code",
   "execution_count": 43,
   "metadata": {},
   "outputs": [
    {
     "name": "stdout",
     "output_type": "stream",
     "text": [
      "0,0,0\n",
      "  0.000188 seconds (100 allocations: 2.594 KiB)\n"
     ]
    }
   ],
   "source": [
    "keisan(1)"
   ]
  },
  {
   "cell_type": "code",
   "execution_count": 44,
   "metadata": {},
   "outputs": [
    {
     "name": "stdout",
     "output_type": "stream",
     "text": [
      "0,0,0\n",
      "0,0,1\n",
      "0,1,0\n",
      "0,1,1\n",
      "1,0,0\n",
      "1,0,1\n",
      "1,1,0\n",
      "1,1,1\n",
      "  0.001524 seconds (784 allocations: 18.875 KiB)\n"
     ]
    }
   ],
   "source": [
    "keisan(2)"
   ]
  },
  {
   "cell_type": "code",
   "execution_count": 45,
   "metadata": {},
   "outputs": [
    {
     "name": "stdout",
     "output_type": "stream",
     "text": [
      "0,0,1\n",
      "0,1,0\n",
      "0,1,1\n",
      "0,1,2\n",
      "0,2,1\n",
      "1,0,0\n",
      "1,0,1\n",
      "1,0,2\n",
      "1,1,0\n",
      "1,2,0\n",
      "2,0,1\n",
      "2,1,0\n",
      "  0.003155 seconds (1.18 k allocations: 28.500 KiB)\n"
     ]
    }
   ],
   "source": [
    "keisan(3)"
   ]
  },
  {
   "cell_type": "code",
   "execution_count": 46,
   "metadata": {},
   "outputs": [
    {
     "name": "stdout",
     "output_type": "stream",
     "text": [
      "0,1,1\n",
      "0,1,3\n",
      "0,3,1\n",
      "0,3,3\n",
      "1,0,1\n",
      "1,0,3\n",
      "1,1,0\n",
      "1,1,1\n",
      "1,1,2\n",
      "1,1,3\n",
      "1,2,1\n",
      "1,2,3\n",
      "1,3,0\n",
      "1,3,1\n",
      "1,3,2\n",
      "1,3,3\n",
      "2,1,1\n",
      "2,1,3\n",
      "2,3,1\n",
      "2,3,3\n",
      "3,0,1\n",
      "3,0,3\n",
      "3,1,0\n",
      "3,1,1\n",
      "3,1,2\n",
      "3,1,3\n",
      "3,2,1\n",
      "3,2,3\n",
      "3,3,0\n",
      "3,3,1\n",
      "3,3,2\n",
      "3,3,3\n",
      "  0.005630 seconds (3.12 k allocations: 75.141 KiB)\n"
     ]
    }
   ],
   "source": [
    "keisan(4)"
   ]
  },
  {
   "cell_type": "code",
   "execution_count": 47,
   "metadata": {},
   "outputs": [
    {
     "name": "stdout",
     "output_type": "stream",
     "text": [
      "1,1,1\n",
      "1,3,4\n",
      "1,4,3\n",
      "2,2,4\n",
      "2,3,3\n",
      "2,4,2\n",
      "3,1,4\n",
      "3,2,3\n",
      "3,3,2\n",
      "3,4,1\n",
      "4,1,3\n",
      "4,2,2\n",
      "4,3,1\n",
      "  0.002955 seconds (1.27 k allocations: 30.703 KiB)\n"
     ]
    }
   ],
   "source": [
    "keisan(5)"
   ]
  },
  {
   "cell_type": "code",
   "execution_count": 48,
   "metadata": {},
   "outputs": [
    {
     "name": "stdout",
     "output_type": "stream",
     "text": [
      "0,0,1\n",
      "0,0,4\n",
      "0,1,0\n",
      "0,1,1\n",
      "0,1,2\n",
      "0,1,3\n",
      "0,1,4\n",
      "0,1,5\n",
      "0,2,1\n",
      "0,2,4\n",
      "0,3,1\n",
      "0,3,4\n",
      "0,4,0\n",
      "0,4,1\n",
      "0,4,2\n",
      "0,4,3\n",
      "0,4,4\n",
      "0,4,5\n",
      "0,5,1\n",
      "0,5,4\n",
      "1,0,0\n",
      "1,0,1\n",
      "1,0,2\n",
      "1,0,3\n",
      "1,0,4\n",
      "1,0,5\n",
      "1,1,0\n",
      "1,1,3\n",
      "1,2,0\n",
      "1,2,3\n",
      "1,3,0\n",
      "1,3,1\n",
      "1,3,2\n",
      "1,3,3\n",
      "1,3,4\n",
      "1,3,5\n",
      "1,4,0\n",
      "1,4,3\n",
      "1,5,0\n",
      "1,5,3\n",
      "2,0,1\n",
      "2,0,4\n",
      "2,1,0\n",
      "2,1,3\n",
      "2,3,1\n",
      "2,3,4\n",
      "2,4,0\n",
      "2,4,3\n",
      "3,0,1\n",
      "3,0,4\n",
      "3,1,0\n",
      "3,1,1\n",
      "3,1,2\n",
      "3,1,3\n",
      "3,1,4\n",
      "3,1,5\n",
      "3,2,1\n",
      "3,2,4\n",
      "3,3,1\n",
      "3,3,4\n",
      "3,4,0\n",
      "3,4,1\n",
      "3,4,2\n",
      "3,4,3\n",
      "3,4,4\n",
      "3,4,5\n",
      "3,5,1\n",
      "3,5,4\n",
      "4,0,0\n",
      "4,0,1\n",
      "4,0,2\n",
      "4,0,3\n",
      "4,0,4\n",
      "4,0,5\n",
      "4,1,0\n",
      "4,1,3\n",
      "4,2,0\n",
      "4,2,3\n",
      "4,3,0\n",
      "4,3,1\n",
      "4,3,2\n",
      "4,3,3\n",
      "4,3,4\n",
      "4,3,5\n",
      "4,4,0\n",
      "4,4,3\n",
      "4,5,0\n",
      "4,5,3\n",
      "5,0,1\n",
      "5,0,4\n",
      "5,1,0\n",
      "5,1,3\n",
      "5,3,1\n",
      "5,3,4\n",
      "5,4,0\n",
      "5,4,3\n",
      "  0.014065 seconds (9.36 k allocations: 225.609 KiB)\n"
     ]
    }
   ],
   "source": [
    "keisan(6)"
   ]
  },
  {
   "cell_type": "code",
   "execution_count": 49,
   "metadata": {},
   "outputs": [
    {
     "name": "stdout",
     "output_type": "stream",
     "text": [
      "0,0,0\n",
      "0,0,2\n",
      "0,1,1\n",
      "0,1,4\n",
      "0,2,0\n",
      "0,2,4\n",
      "0,4,1\n",
      "0,4,2\n",
      "1,0,1\n",
      "1,0,4\n",
      "1,1,0\n",
      "1,1,4\n",
      "1,2,2\n",
      "1,2,4\n",
      "1,3,4\n",
      "1,4,0\n",
      "1,4,1\n",
      "1,4,2\n",
      "1,4,3\n",
      "1,4,4\n",
      "1,4,5\n",
      "1,4,6\n",
      "1,5,4\n",
      "1,6,4\n",
      "2,0,0\n",
      "2,0,4\n",
      "2,1,2\n",
      "2,1,4\n",
      "2,2,1\n",
      "2,2,2\n",
      "2,4,0\n",
      "2,4,1\n",
      "3,1,4\n",
      "3,4,1\n",
      "3,5,6\n",
      "3,6,5\n",
      "4,0,1\n",
      "4,0,2\n",
      "4,1,0\n",
      "4,1,1\n",
      "4,1,2\n",
      "4,1,3\n",
      "4,1,4\n",
      "4,1,5\n",
      "4,1,6\n",
      "4,2,0\n",
      "4,2,1\n",
      "4,3,1\n",
      "4,4,1\n",
      "4,4,4\n",
      "4,5,1\n",
      "4,6,1\n",
      "5,1,4\n",
      "5,3,6\n",
      "5,4,1\n",
      "5,6,3\n",
      "6,1,4\n",
      "6,3,5\n",
      "6,4,1\n",
      "6,5,3\n",
      "  0.010644 seconds (5.98 k allocations: 151.781 KiB)\n"
     ]
    }
   ],
   "source": [
    "keisan(7)"
   ]
  },
  {
   "cell_type": "code",
   "execution_count": 50,
   "metadata": {},
   "outputs": [
    {
     "name": "stdout",
     "output_type": "stream",
     "text": [
      "  0.000016 seconds\n"
     ]
    }
   ],
   "source": [
    "keisan(8)"
   ]
  },
  {
   "cell_type": "markdown",
   "metadata": {},
   "source": [
    "おっと，8で割った余りが一致しない！調べてみよう。"
   ]
  },
  {
   "cell_type": "code",
   "execution_count": 52,
   "metadata": {},
   "outputs": [
    {
     "data": {
      "text/plain": [
       "keisan2 (generic function with 1 method)"
      ]
     },
     "execution_count": 52,
     "metadata": {},
     "output_type": "execute_result"
    }
   ],
   "source": [
    "function keisan2(a)\n",
    "    @time for x=0:a-1\n",
    "        y=x^4%a\n",
    "        println(x,\",\", y)\n",
    "        end\n",
    "    end"
   ]
  },
  {
   "cell_type": "code",
   "execution_count": 53,
   "metadata": {},
   "outputs": [
    {
     "name": "stdout",
     "output_type": "stream",
     "text": [
      "0,0\n",
      "1,1\n",
      "2,0\n",
      "3,1\n",
      "4,0\n",
      "5,1\n",
      "6,0\n",
      "7,1\n",
      "  0.000924 seconds (542 allocations: 12.953 KiB)\n"
     ]
    }
   ],
   "source": [
    "keisan2(8)"
   ]
  },
  {
   "cell_type": "markdown",
   "metadata": {},
   "source": [
    "なので，$\\mod 8$とすると，\n",
    "\n",
    "$(x+y+z+2)^4\\equiv 0,\\, 1$\n",
    "\n",
    "\n",
    "$x^4+y^4+z^4+2\\equiv 0+2,\\, 1+2,\\, 2+2,\\, 3+2\\equiv 2,\\,3,\\,4,\\,5$\n",
    "\n",
    "よって，８で割った余りが一致しないので存在しない。\n"
   ]
  },
  {
   "cell_type": "code",
   "execution_count": null,
   "metadata": {},
   "outputs": [],
   "source": []
  }
 ],
 "metadata": {
  "kernelspec": {
   "display_name": "Julia 1.5.0",
   "language": "julia",
   "name": "julia-1.5"
  },
  "language_info": {
   "file_extension": ".jl",
   "mimetype": "application/julia",
   "name": "julia",
   "version": "1.5.0"
  }
 },
 "nbformat": 4,
 "nbformat_minor": 2
}
