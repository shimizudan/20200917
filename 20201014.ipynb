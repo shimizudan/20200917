{
 "cells": [
  {
   "cell_type": "code",
   "execution_count": 1,
   "metadata": {},
   "outputs": [
    {
     "data": {
      "text/plain": [
       "2"
      ]
     },
     "execution_count": 1,
     "metadata": {},
     "output_type": "execute_result"
    }
   ],
   "source": [
    "1+1"
   ]
  },
  {
   "cell_type": "markdown",
   "metadata": {},
   "source": [
    "$\\triangle{OAB} : x+2y-2z=0$\n",
    "\n",
    "\n",
    "$\\triangle{OBC} : x-y+z=0$\n",
    "\n",
    "\n",
    "$\\triangle{OCA} : -x+25y-16z=0$\n",
    "\n",
    "\n",
    "\n",
    "$\\triangle{ABC} : -x-20y+11z=-9$\n",
    "\n",
    "\n",
    "$a$は境界上の格子点の数\n",
    "\n",
    "$b$は境界上の$\\frac12$格子点の数\n",
    "\n",
    "$c$は内部の格子点の数\n",
    "\n",
    "$d$は内部の$\\frac12$格子点の数\n",
    "\n",
    "$V$は体積\n",
    "\n",
    "$V=-\\frac16a+\\frac1{12}b-\\frac13c+\\frac16d$\n",
    "\n",
    "\n",
    "\n"
   ]
  },
  {
   "cell_type": "code",
   "execution_count": 2,
   "metadata": {},
   "outputs": [
    {
     "data": {
      "text/plain": [
       "j (generic function with 1 method)"
      ]
     },
     "execution_count": 2,
     "metadata": {},
     "output_type": "execute_result"
    }
   ],
   "source": [
    "f(x,y,z)=x+2*y-2*z\n",
    "g(x,y,z)=x-y+z\n",
    "h(x,y,z)=-x+25*y-16*z\n",
    "j(x,y,z)=-x-20*y+11z+9\n",
    "\n",
    "\n",
    "#v=-1/6 *a+1/12 *b-1/3 *c+1/6 *d"
   ]
  },
  {
   "cell_type": "code",
   "execution_count": 7,
   "metadata": {},
   "outputs": [
    {
     "name": "stdout",
     "output_type": "stream",
     "text": [
      "1\n",
      "2\n",
      "3\n",
      "7\n"
     ]
    },
    {
     "data": {
      "text/plain": [
       "0.16666666666666652"
      ]
     },
     "execution_count": 7,
     "metadata": {},
     "output_type": "execute_result"
    }
   ],
   "source": [
    "function koushi()\n",
    "b=0\n",
    "d=0\n",
    "for i=0:16\n",
    "        for k=0:10\n",
    "            for l=-6:4\n",
    "                if f(k/2,l/2,i/2)>0 && g(k/2,l/2,i/2)>0 && h(k/2,l/2,i/2)<0 && j(k/2,l/2,i/2)<0\n",
    "                    d += 1\n",
    "                elseif f(k/2,l/2,i/2)>=0 && g(k/2,l/2,i/2)>=0 && h(k/2,l/2,i/2)<=0 && j(k/2,l/2,i/2)<=0\n",
    "                    b +=1\n",
    "                end\n",
    "            end\n",
    "        end\n",
    "    end\n",
    "a=0\n",
    "c=0\n",
    "for i=0:8\n",
    "        for k=0:5\n",
    "            for l=-3:2\n",
    "                if f(k,l,i)>0 && g(k,l,i)>0 && h(k,l,i)<0 && j(k,l,i)<0\n",
    "                    c += 1\n",
    "                elseif f(k,l,i)>=0 && g(k,l,i)>=0 && h(k,l,i)<=0 && j(k,l,i)<=0\n",
    "                    a +=1\n",
    "                end\n",
    "            end\n",
    "        end\n",
    "    end\n",
    "    println(a)\n",
    "    println(b)\n",
    "    println(c)\n",
    "    println(d)\n",
    "    v=-1/6 *a+1/12 *b-1/3 *c+1/6 *d\n",
    "end\n",
    "\n",
    "koushi()\n",
    "    \n",
    "    "
   ]
  },
  {
   "cell_type": "code",
   "execution_count": 72,
   "metadata": {},
   "outputs": [
    {
     "data": {
      "text/plain": [
       "false"
      ]
     },
     "execution_count": 72,
     "metadata": {},
     "output_type": "execute_result"
    }
   ],
   "source": [
    "f(0,0,.5)<0 && g(0,0,0.5)<0"
   ]
  },
  {
   "cell_type": "markdown",
   "metadata": {},
   "source": [
    "z=0:1\n",
    "\n",
    "f<=0,g>=0,h<=0,\n",
    "\n",
    "z=1.5:2.5\n",
    "f<=0,g>=0,h<=0,j<=0\n",
    "\n",
    "\n",
    "\n",
    "z=3:8\n",
    "g>=0,h<=0,j<=0\n",
    "\n",
    "\n",
    "\n"
   ]
  },
  {
   "cell_type": "code",
   "execution_count": 92,
   "metadata": {},
   "outputs": [
    {
     "data": {
      "text/plain": [
       "0"
      ]
     },
     "execution_count": 92,
     "metadata": {},
     "output_type": "execute_result"
    }
   ],
   "source": [
    "c"
   ]
  },
  {
   "cell_type": "code",
   "execution_count": null,
   "metadata": {},
   "outputs": [],
   "source": []
  }
 ],
 "metadata": {
  "kernelspec": {
   "display_name": "Julia 1.5.0",
   "language": "julia",
   "name": "julia-1.5"
  },
  "language_info": {
   "file_extension": ".jl",
   "mimetype": "application/julia",
   "name": "julia",
   "version": "1.5.0"
  }
 },
 "nbformat": 4,
 "nbformat_minor": 2
}
