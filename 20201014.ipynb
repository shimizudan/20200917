{
 "cells": [
  {
   "cell_type": "markdown",
   "metadata": {},
   "source": [
    "### 四面体の体積と格子点について\n",
    "\n",
    "\n",
    "$\\text{O}(0,\\,0,\\,0)$，$\\text{A}(2,\\,2,\\,3)$，$\\text{B}(0,\\,1,\\,1)$，$\\text{C}(-3,\\,5,\\,8)$を頂点とする四面体OABCの体積$V$とする。\n",
    "\n",
    "#### 4つの面の方程式を求めると，\n",
    "\n",
    "\n",
    "$\\triangle{\\text{OAB}} : f(x,y,z)=x+2y-2z=0$\n",
    "\n",
    "\n",
    "$\\triangle{\\text{OBC}} : g(x,y,z)=x-y+z=0$\n",
    "\n",
    "\n",
    "$\\triangle{\\text{OCA}} : h(x,y,z)=-x+25y-16z=0$\n",
    "\n",
    "\n",
    "$\\triangle{\\text{ABC}} : j(z,y,z)=-x-20y+11z+9=0$\n",
    "\n",
    "\n",
    "\n"
   ]
  },
  {
   "cell_type": "code",
   "execution_count": 7,
   "metadata": {},
   "outputs": [
    {
     "data": {
      "text/plain": [
       "j (generic function with 1 method)"
      ]
     },
     "execution_count": 7,
     "metadata": {},
     "output_type": "execute_result"
    }
   ],
   "source": [
    "f(x,y,z)=x+2y-2z\n",
    "g(x,y,z)=x-y+z\n",
    "h(x,y,z)=-x+25y-16z\n",
    "j(x,y,z)=-x-20y+11z+9"
   ]
  },
  {
   "cell_type": "markdown",
   "metadata": {},
   "source": [
    "##### 四面体の重心は四面体の内部なので，この座標を調べて領域を考える。\n",
    "\n",
    "\n",
    "$$\\left(\\frac{0+2+0-3}4,\\,\\frac{0+2+1+5}4,\\,\\frac{0+3+1+8}4\\right)=\\left(-\\frac14,\\,2,\\,3\\right)$$\n",
    "\n",
    "この点が，正領域なのか負領域なのか調べ，四面体の内部を表す連立不等式を作る。\n",
    "\n",
    "\n",
    "\n",
    "$\\triangle{\\text{OAB}} : f(x,y,z)=x+2y-2z<0$\n",
    "\n",
    "\n",
    "$\\triangle{\\text{OBC}} : g(x,y,z)=x-y+z>0$\n",
    "\n",
    "\n",
    "$\\triangle{\\text{OCA}} : h(x,y,z)=-x+25y-16z>0$\n",
    "\n",
    "\n",
    "$\\triangle{\\text{ABC}} : j(z,y,z)=-x-20y+11z+9>0$"
   ]
  },
  {
   "cell_type": "code",
   "execution_count": 31,
   "metadata": {},
   "outputs": [
    {
     "data": {
      "text/plain": [
       "3-element Array{Float64,1}:\n",
       " -0.25\n",
       "  2.0\n",
       "  3.0"
      ]
     },
     "execution_count": 31,
     "metadata": {},
     "output_type": "execute_result"
    }
   ],
   "source": [
    "O=[0,0,0];A=[2,2,3];B=[0,1,1];C=[-3,5,8];(O + A + B + C) /4"
   ]
  },
  {
   "cell_type": "code",
   "execution_count": 32,
   "metadata": {},
   "outputs": [
    {
     "data": {
      "text/plain": [
       "-2.25"
      ]
     },
     "execution_count": 32,
     "metadata": {},
     "output_type": "execute_result"
    }
   ],
   "source": [
    "f(-1/4,2,3)"
   ]
  },
  {
   "cell_type": "code",
   "execution_count": 33,
   "metadata": {},
   "outputs": [
    {
     "data": {
      "text/plain": [
       "0.75"
      ]
     },
     "execution_count": 33,
     "metadata": {},
     "output_type": "execute_result"
    }
   ],
   "source": [
    "g(-1/4,2,3)"
   ]
  },
  {
   "cell_type": "code",
   "execution_count": 34,
   "metadata": {},
   "outputs": [
    {
     "data": {
      "text/plain": [
       "2.25"
      ]
     },
     "execution_count": 34,
     "metadata": {},
     "output_type": "execute_result"
    }
   ],
   "source": [
    "h(-1/4,2,3)"
   ]
  },
  {
   "cell_type": "code",
   "execution_count": 35,
   "metadata": {},
   "outputs": [
    {
     "data": {
      "text/plain": [
       "2.25"
      ]
     },
     "execution_count": 35,
     "metadata": {},
     "output_type": "execute_result"
    }
   ],
   "source": [
    "j(-1/4,2,3)"
   ]
  },
  {
   "cell_type": "markdown",
   "metadata": {},
   "source": [
    "##### 格子点と体積の関係は以下の通りである。\n",
    "\n",
    "$a$は境界上の格子点の数\n",
    "\n",
    "$b$は境界上の$\\frac12$格子点の数\n",
    "\n",
    "$c$は内部の格子点の数\n",
    "\n",
    "$d$は内部の$\\frac12$格子点の数\n",
    "\n",
    "$V$は体積$V=-\\frac16a+\\frac1{12}b-\\frac13c+\\frac16d$\n",
    "\n"
   ]
  },
  {
   "cell_type": "code",
   "execution_count": 30,
   "metadata": {},
   "outputs": [
    {
     "name": "stdout",
     "output_type": "stream",
     "text": [
      "5\n",
      "14\n",
      "2\n",
      "11\n"
     ]
    },
    {
     "data": {
      "text/plain": [
       "1.5"
      ]
     },
     "execution_count": 30,
     "metadata": {},
     "output_type": "execute_result"
    }
   ],
   "source": [
    "function koushi()\n",
    "b=0;d=0;\n",
    "    for i=0:16\n",
    "        for k=-6:4\n",
    "            for l=0:10\n",
    "                if f(k/2,l/2,i/2)<0 && g(k/2,l/2,i/2)>0 && h(k/2,l/2,i/2)>0 && j(k/2,l/2,i/2)>0\n",
    "                    d += 1\n",
    "                elseif f(k/2,l/2,i/2)<=0 && g(k/2,l/2,i/2)>=0 && h(k/2,l/2,i/2)>=0 && j(k/2,l/2,i/2)>=0\n",
    "                    b +=1\n",
    "                end\n",
    "            end\n",
    "        end\n",
    "    end\n",
    "a=0;c=0;\n",
    "    for i=0:8\n",
    "        for k=-3:2\n",
    "            for l=0:5\n",
    "                if f(k,l,i)<0 && g(k,l,i)>0 && h(k,l,i)>0 && j(k,l,i)>0\n",
    "                    c += 1\n",
    "                elseif f(k,l,i)<=0 && g(k,l,i)>=0 && h(k,l,i)>=0 && j(k,l,i)>=0\n",
    "                    a +=1\n",
    "                end\n",
    "            end\n",
    "        end\n",
    "    end\n",
    "    println(a)\n",
    "    println(b)\n",
    "    println(c)\n",
    "    println(d)\n",
    "    v=-1/6 *a+1/12 *b-1/3 *c+1/6 *d\n",
    "end\n",
    "\n",
    "koushi()\n",
    "    \n",
    "    "
   ]
  },
  {
   "cell_type": "markdown",
   "metadata": {},
   "source": [
    "##### 結果は\n",
    "\n",
    "境界上の格子点の数$a=5$\n",
    "\n",
    "境界上の$\\frac12$格子点の数$b=14$\n",
    "\n",
    "内部の格子点の数$c=2$\n",
    "\n",
    "内部の$\\frac12$格子点の数$d=11$\n",
    "\n",
    "体積$V=-\\frac16\\times5+\\frac1{12}\\times 14-\\frac13\\times 2+\\frac16\\times 11=\\frac32$\n",
    "\n",
    "\n"
   ]
  }
 ],
 "metadata": {
  "kernelspec": {
   "display_name": "Julia 1.5.0",
   "language": "julia",
   "name": "julia-1.5"
  },
  "language_info": {
   "file_extension": ".jl",
   "mimetype": "application/julia",
   "name": "julia",
   "version": "1.5.0"
  }
 },
 "nbformat": 4,
 "nbformat_minor": 2
}
